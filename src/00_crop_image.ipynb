{
 "cells": [
  {
   "cell_type": "code",
   "execution_count": 22,
   "metadata": {
    "collapsed": true
   },
   "outputs": [],
   "source": [
    "from pathlib import Path\n",
    "import cv2\n",
    "from tqdm.notebook import tqdm\n",
    "import numpy as np\n",
    "from multiprocessing import Pool"
   ]
  },
  {
   "cell_type": "code",
   "execution_count": 23,
   "metadata": {
    "collapsed": false
   },
   "outputs": [],
   "source": [
    "dataset_path_str = '/data/smb_shared/@Dataset/HAdobe5K_resized1024'\n",
    "foreground_folder_str = 'foreground_images'\n",
    "mask_folder_str = 'masks'\n",
    "foreground_cropped_folder_str = 'foreground_images_cropped'\n",
    "mask_cropped_folder_str = 'masks_cropped'"
   ]
  },
  {
   "cell_type": "code",
   "execution_count": 25,
   "metadata": {
    "collapsed": false
   },
   "outputs": [],
   "source": [
    "dataset_path = Path(dataset_path_str)\n",
    "assert dataset_path.is_dir()\n",
    "\n",
    "foreground_folder_path = dataset_path / foreground_folder_str\n",
    "assert foreground_folder_path.is_dir()\n",
    "foreground_paths = sorted(foreground_folder_path.rglob('*.jpg'))\n",
    "\n",
    "mask_folder_path = dataset_path / mask_folder_str\n",
    "assert mask_folder_path.is_dir()\n",
    "mask_paths = sorted(mask_folder_path.rglob('*.png'))\n",
    "\n",
    "foreground_cropped_folder_path = dataset_path / foreground_cropped_folder_str\n",
    "foreground_cropped_folder_path.mkdir(parents=True, exist_ok=False)\n",
    "mask_cropped_folder_path = dataset_path / mask_cropped_folder_str\n",
    "mask_cropped_folder_path.mkdir(parents=True, exist_ok=False)"
   ]
  },
  {
   "cell_type": "code",
   "execution_count": 26,
   "metadata": {},
   "outputs": [],
   "source": [
    "def crop_image(mask_path):\n",
    "    data_name = mask_path.stem.split('_')[0]\n",
    "\n",
    "    mask = cv2.imread(str(mask_path))\n",
    "    mask_gray = cv2.cvtColor(mask, cv2.COLOR_BGR2GRAY)\n",
    "\n",
    "    # contours, hierarchy = cv2.findContours(\n",
    "    #     binary, cv2.RETR_TREE, cv2.CHAIN_APPROX_SIMPLE)\n",
    "    # bounding_boxes = [cv2.boundingRect(cnt) for cnt in contours]\n",
    "\n",
    "    illegal = True\n",
    "    pic_h, pic_w = mask_gray.shape\n",
    "    while illegal:\n",
    "        illegal = False\n",
    "        x = np.random.randint(pic_w)\n",
    "        y = np.random.randint(pic_h)\n",
    "        l = np.random.randint((pic_w + pic_h) / 6, (pic_w + pic_h) / 3)\n",
    "        if x + l >= pic_w or y + l >= pic_h:\n",
    "            illegal = True\n",
    "            continue\n",
    "        # for bbox in bounding_boxes:\n",
    "        #     [bx, by, bw, bh] = bbox\n",
    "        #     if x < bx+bw and x+l > bx and y < by+bh and y+l > by:\n",
    "        #         illegal = True\n",
    "        #         continue\n",
    "    cropped_mask = 255 - mask_gray[y:y + l, x:x + l]\n",
    "    cropped_mask_path = mask_cropped_folder_path / ('_'.join((data_name, '3')) + mask_path.suffix)\n",
    "    cv2.imwrite(str(cropped_mask_path), cropped_mask)\n",
    "\n",
    "    foreground_paths = foreground_folder_path.rglob(data_name + '*')\n",
    "    for foreground_path in foreground_paths:\n",
    "        foreground = cv2.imread(str(foreground_path))\n",
    "        cropped_foreground = foreground[y:y + l, x:x + l]\n",
    "        cropped_foreground_path = foreground_cropped_folder_path / (\n",
    "                '_'.join((data_name, '3', foreground_path.stem.split('_')[2])) + foreground_path.suffix)\n",
    "        cv2.imwrite(str(cropped_foreground_path), cropped_foreground)"
   ]
  },
  {
   "cell_type": "code",
   "execution_count": null,
   "outputs": [],
   "source": [
    "print('Mask num: ', len(mask_paths))\n",
    "print('Foreground image num: ', len(foreground_paths))\n",
    "with Pool() as pool:\n",
    "    r = list(tqdm(pool.imap(crop_image, mask_paths), total = len(mask_paths)))"
   ],
   "metadata": {
    "collapsed": false
   }
  }
 ],
 "metadata": {
  "kernelspec": {
   "display_name": "Python 3.9.13 ('deep')",
   "language": "python",
   "name": "python3"
  },
  "language_info": {
   "codemirror_mode": {
    "name": "ipython",
    "version": 3
   },
   "file_extension": ".py",
   "mimetype": "text/x-python",
   "name": "python",
   "nbconvert_exporter": "python",
   "pygments_lexer": "ipython3",
   "version": "3.9.13"
  },
  "vscode": {
   "interpreter": {
    "hash": "b468d79ecdd3b33650cd67ccf631e4442a1b33fab4e25b3fd769043de45e00c0"
   }
  }
 },
 "nbformat": 4,
 "nbformat_minor": 0
}