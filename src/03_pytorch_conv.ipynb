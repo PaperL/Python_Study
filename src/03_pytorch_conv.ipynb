{
 "cells": [
  {
   "cell_type": "code",
   "execution_count": 3,
   "metadata": {},
   "outputs": [],
   "source": [
    "from torch import nn\n",
    "import torch"
   ]
  },
  {
   "cell_type": "code",
   "execution_count": 12,
   "metadata": {},
   "outputs": [
    {
     "name": "stdout",
     "output_type": "stream",
     "text": [
      "torch.Size([20, 16, 48, 98])\n",
      "torch.Size([20, 16, 24, 49])\n"
     ]
    }
   ],
   "source": [
    "m = nn.Conv2d(16, 16, 3, stride=1)\n",
    "input = torch.rand(20, 16, 50, 100)\n",
    "output = m(input)\n",
    "print(output.shape)\n",
    "\n",
    "m = nn.Conv2d(16, 16, 3, stride=2)\n",
    "input = torch.rand(20, 16, 50, 100)\n",
    "output = m(input)\n",
    "print(output.shape)"
   ]
  },
  {
   "cell_type": "code",
   "execution_count": 16,
   "metadata": {},
   "outputs": [
    {
     "name": "stdout",
     "output_type": "stream",
     "text": [
      "torch.Size([20, 16, 10, 20])\n",
      "torch.Size([20, 16, 10, 20])\n",
      "torch.Size([20, 16, 9, 19])\n",
      "torch.Size([20, 16, 9, 19])\n"
     ]
    }
   ],
   "source": [
    "for kernel_size in range(4, 8):\n",
    "    m = nn.Conv2d(16, 16, kernel_size, stride=5)\n",
    "    input = torch.rand(20, 16, 50, 100)\n",
    "    output = m(input)\n",
    "    print(output.shape)"
   ]
  },
  {
   "cell_type": "code",
   "execution_count": 30,
   "metadata": {},
   "outputs": [
    {
     "name": "stdout",
     "output_type": "stream",
     "text": [
      "torch.Size([20, 6, 48, 98])\n"
     ]
    }
   ],
   "source": [
    "m = nn.Conv2d(2, 6, 3, stride=1)\n",
    "input = torch.rand(20, 2, 50, 100)\n",
    "output = m(input)\n",
    "print(output.shape)"
   ]
  },
  {
   "cell_type": "code",
   "execution_count": 31,
   "metadata": {},
   "outputs": [
    {
     "name": "stdout",
     "output_type": "stream",
     "text": [
      "torch.Size([20, 6, 46, 96])\n",
      "torch.Size([20, 6, 48, 98])\n",
      "torch.Size([20, 6, 50, 100])\n",
      "torch.Size([20, 6, 52, 102])\n"
     ]
    }
   ],
   "source": [
    "for padding in range(0, 4):\n",
    "    m = nn.Conv2d(2, 6, 5, stride=1, padding=padding)\n",
    "    input = torch.rand(20, 2, 50, 100)\n",
    "    output = m(input)\n",
    "    print(output.shape)"
   ]
  }
 ],
 "metadata": {
  "kernelspec": {
   "display_name": "deep_mm3d",
   "language": "python",
   "name": "python3"
  },
  "language_info": {
   "codemirror_mode": {
    "name": "ipython",
    "version": 3
   },
   "file_extension": ".py",
   "mimetype": "text/x-python",
   "name": "python",
   "nbconvert_exporter": "python",
   "pygments_lexer": "ipython3",
   "version": "3.9.15"
  },
  "orig_nbformat": 4,
  "vscode": {
   "interpreter": {
    "hash": "8d3f410bca4acbe7d34f5a16db0b529dfc9be3aacbaf49fb7c1cef82ec4613ad"
   }
  }
 },
 "nbformat": 4,
 "nbformat_minor": 2
}
